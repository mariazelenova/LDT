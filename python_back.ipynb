{
 "cells": [
  {
   "cell_type": "markdown",
   "id": "325ec54c",
   "metadata": {},
   "source": [
    "# НОУТБУК ПРЕДНАЗНАЧЕН ДЛЯ ЗАПУСКА БЕЗ ИНТЕРФЕЙСА И ПОКАЗЫВАЕТ РАБОТОСПОСОБНОСТЬ МОДЕЛИ"
   ]
  },
  {
   "cell_type": "markdown",
   "id": "f8c92a6f",
   "metadata": {},
   "source": [
    "Для запуска кода нужно наличие следующих таблиц: \n",
    "\n",
    "1) Данные о группах \"groups.csv\"\n",
    "2) Полная таблица пользователей, в которую были добавлены рандомно сгенерированные имена пользователей 'users_w_fio.csv'\n",
    "3) Обработанная полная таблица пользователей, которая к использованию (без имен) \"main_table.csv\"\n",
    "4) Таблица активностей пользователей \"attend.csv\"\n",
    "5) Таблицы - юзеры и группы с координатами \"groups_coor.xlsx\", \"users_itog.xlsx\"\n",
    "6) Таблица пользователей без активности, с рандомно сгенерированными именами \"new_users_w_fio.csv\"\n",
    "7) Таблица пользователей без активности, без имен \"new_users.xlsx\""
   ]
  },
  {
   "cell_type": "code",
   "execution_count": 105,
   "id": "12d17e6f",
   "metadata": {},
   "outputs": [],
   "source": [
    "#это импорт всего, что может пригодиться и настройка параметров\n",
    "from sklearn import tree\n",
    "import pandas as pd\n",
    "import numpy as np\n",
    "import geopandas as gpd\n",
    "import geopy.distance"
   ]
  },
  {
   "cell_type": "code",
   "execution_count": 106,
   "id": "27dc35e8",
   "metadata": {},
   "outputs": [],
   "source": [
    "#подтягиваем таблицы для получения данных \n",
    "new_users_w_fio = pd.read_csv(\"new_users_w_fio.csv\",error_bad_lines=False,delimiter=\";\")\n",
    "new_users = pd.read_excel(\"new_users.xlsx\")\n",
    "new_users = new_users.drop(columns=\"Unnamed: 0\")\n",
    "new_users = new_users.set_index(\"уникальный номер\")\n",
    "groups_cards = pd.read_csv(\"groups.csv\")\n",
    "w = pd.read_csv('users_w_fio.csv',error_bad_lines=False,delimiter=\";\")\n",
    "users = pd.read_csv(\"main_table.csv\")\n",
    "users = users.set_index(\"уникальный номер участника\")\n",
    "attend = pd.read_csv(\"attend.csv\")\n",
    "gc = pd.read_excel(\"groups_coor.xlsx\")\n",
    "gc = gc[gc[\"уникальный номер\"].notna()]\n",
    "uc = pd.read_excel(\"users_itog.xlsx\")\n",
    "gc[\"уникальный номер группы\"] = gc[\"уникальный номер\"].astype('int64')"
   ]
  },
  {
   "cell_type": "markdown",
   "id": "eacc3276",
   "metadata": {},
   "source": [
    "# ЕСЛИ ПОЛЬЗОВАТЕЛЬ ЗАРЕГИСТРИРОВАН И РАНЕЕ ХОДИЛ НА ЗАНЯТИЯ"
   ]
  },
  {
   "cell_type": "code",
   "execution_count": 108,
   "id": "f28aecf5",
   "metadata": {},
   "outputs": [
    {
     "data": {
      "text/plain": [
       "101363822"
      ]
     },
     "execution_count": 108,
     "metadata": {},
     "output_type": "execute_result"
    }
   ],
   "source": [
    "#fio получаем из запроса, если есть фронт\n",
    "#здесь взято случайное из таблицы\n",
    "fio = \"Апостол Ринат Романович\"\n",
    "#найти уникальный номер, который соответствует фио\n",
    "user_number=int(w.loc[w['fio'] == fio, 'уникальный номер'])"
   ]
  },
  {
   "cell_type": "code",
   "execution_count": 109,
   "id": "b3de3e35",
   "metadata": {},
   "outputs": [],
   "source": [
    "t = users.transpose()\n",
    "norm_t = t.T.reset_index().rename(columns={'уникальный номер участника' : 'id'})\n",
    "def findKNearestUsers(userCorrCol, k = 228):\n",
    "    return userCorrCol[userCorrCol.index != userCorrCol.name].nlargest(n = k).index.tolist()\n",
    "def old_users(user_number):\n",
    "        kmeans_corr = t.corrwith(t[user_number], method = 'pearson')\n",
    "        corr = kmeans_corr.to_frame()\n",
    "        kNeighboors = corr.apply(lambda col: findKNearestUsers(col))\n",
    "        mask = list(kNeighboors.iloc[:,0])\n",
    "        dddf = pd.DataFrame(norm_t[norm_t.id.isin(mask)].sum() == 0)\n",
    "        not_zeros = dddf[dddf[0] == 0].index.tolist()[2:]\n",
    "        new_ddf = pd.DataFrame(norm_t[norm_t.id.isin(mask)][not_zeros].sum()).reset_index()\n",
    "        super_ddf = new_ddf[new_ddf['index'].str.contains(\"направление\")].sort_values(by=0, \n",
    "                                                                                      ascending=False).rename(columns={0: 'similarity'})\n",
    "        super_ddf['direction'] = super_ddf['index'].apply(lambda x : x.split('_x_')[1])\n",
    "        super_attend = attend[['уникальный номер группы', 'направление 3']].drop_duplicates()\n",
    "        new = super_ddf.merge(super_attend, left_on='direction', right_on='направление 3')\n",
    "        new = new.drop(columns = [\"index\",\"направление 3\"])\n",
    "        dc = pd.merge(new,gc[[\"coordinate\",\"уникальный номер группы\"]],on = \"уникальный номер группы\")\n",
    "        dc[\"coordinate\"] = dc[\"coordinate\"].str.replace(\"[()]\",\"\")\n",
    "        point = uc.loc[uc[\"уникальный номер\"] == user_number, \"coordinate\"].tolist()\n",
    "        coor=dc\n",
    "        coor[\"distance\"] = coor.coordinate.apply(lambda x : geopy.distance.geodesic(point, x).km)\n",
    "        coor1 = coor.drop_duplicates(subset=\"direction\", keep='first')\n",
    "        final_set = coor1.sort_values(['similarity', 'distance'],\n",
    "                  ascending = [False, True])\n",
    "        final_set = final_set.drop_duplicates(subset=\"direction\", keep='first')\n",
    "        groups = final_set['уникальный номер группы'][:10].tolist()\n",
    "        return groups"
   ]
  },
  {
   "cell_type": "code",
   "execution_count": 112,
   "id": "ccdb1892",
   "metadata": {},
   "outputs": [
    {
     "name": "stderr",
     "output_type": "stream",
     "text": [
      "<ipython-input-109-1c6e3bd8d184>:20: FutureWarning: The default value of regex will change from True to False in a future version.\n",
      "  dc[\"coordinate\"] = dc[\"coordinate\"].str.replace(\"[()]\",\"\")\n"
     ]
    }
   ],
   "source": [
    "old_users_groups = old_users(user_number)"
   ]
  },
  {
   "cell_type": "code",
   "execution_count": 113,
   "id": "17819ecd",
   "metadata": {},
   "outputs": [],
   "source": [
    "def user_card(old_users_groups):\n",
    "    card = []\n",
    "    i = 0\n",
    "    while i < len(old_users_groups):\n",
    "        card.append(groups_cards.loc[groups_cards['уникальный номер'] == old_users_groups[i],[\"направление 3\", \"адрес площадки\"]])\n",
    "        i+=1\n",
    "    return card"
   ]
  },
  {
   "cell_type": "code",
   "execution_count": 115,
   "id": "f97a4660",
   "metadata": {
    "collapsed": true
   },
   "outputs": [
    {
     "name": "stdout",
     "output_type": "stream",
     "text": [
      "[                  направление 3  \\\n",
      "150  Оздоровительная гимнастика   \n",
      "\n",
      "                                                                                             адрес площадки  \n",
      "150  город Москва, улица Академика Виноградова, дом 12, город Москва, улица Островитянова, дом 22, корпус 2  ,               направление 3  \\\n",
      "11194  Скандинавская ходьба   \n",
      "\n",
      "                                           адрес площадки  \n",
      "11194  город Москва, проспект Андропова, дом 46, корпус 1  ,                направление 3  \\\n",
      "9811  Дыхательная гимнастика   \n",
      "\n",
      "                                            адрес площадки  \n",
      "9811  г. Москва, проспект Маршала Жукова, дом 76, корпус 2  ,       направление 3                                   адрес площадки\n",
      "12260         Пение  г. Москва, Карельский бульвар, дом 23, корпус 2,                        направление 3  \\\n",
      "9737  Осваиваем мобильные устройства   \n",
      "\n",
      "                                      адрес площадки  \n",
      "9737  г. Москва, Братеевская улица, дом 10, корпус 1  ,     направление 3  \\\n",
      "290           ОФП   \n",
      "\n",
      "                                                                адрес площадки  \n",
      "290  город Москва, Щёлковское шоссе, дом 8, г. Москва, Щёлковское шоссе, дом 8  ,            направление 3                        адрес площадки\n",
      "10045  Настольный теннис  город Москва, улица Маресьева, дом 1,       направление 3                                           адрес площадки\n",
      "10988    Гимнастика  г. Москва, улица Авиаконструктора Миля, дом 5, корпус 2,        направление 3  \\\n",
      "12691  Хоровое пение   \n",
      "\n",
      "                                                                                                                    адрес площадки  \n",
      "12691  город Москва, Братиславская улица, дом 26, город Москва, Люблинская улица, дом 149, город Москва, Люблинская улица, дом 149  ,                         направление 3  \\\n",
      "10255  Курсы компьютерной грамотности   \n",
      "\n",
      "                                        адрес площадки  \n",
      "10255  город Москва, Перовская улица, дом 33, корпус 1  ]\n"
     ]
    }
   ],
   "source": [
    "user_card(old_users_groups)"
   ]
  },
  {
   "cell_type": "markdown",
   "id": "4ab5a89a",
   "metadata": {},
   "source": [
    "# ЕСЛИ ПОЛЬЗОВАТЕЛЬ ЗАРЕГИСТРИРОВАН И РАНЕЕ НЕ ХОДИЛ НА ЗАНЯТИЯ"
   ]
  },
  {
   "cell_type": "code",
   "execution_count": 116,
   "id": "57c7b86a",
   "metadata": {},
   "outputs": [],
   "source": [
    "#если данные поступают с фронта, то эта переменная будет принимать их, сейчас это случайное имя из таблицы пользователей без активностей\n",
    "fio_inactive = \"Анаников Петр Николаевич\""
   ]
  },
  {
   "cell_type": "code",
   "execution_count": 117,
   "id": "0aca3970",
   "metadata": {},
   "outputs": [],
   "source": [
    "user_number=int(new_users_w_fio.loc[new_users_w_fio['fio'] == fio_inactive, 'уникальный номер'])\n",
    "t_new = new_users.transpose()\n",
    "t = users.transpose()\n",
    "norm_t = t.T.reset_index().rename(columns={'уникальный номер участника' : 'id'})"
   ]
  },
  {
   "cell_type": "code",
   "execution_count": 118,
   "id": "ce57f6e3",
   "metadata": {},
   "outputs": [],
   "source": [
    "def findKNearestUsers(userCorrCol, k = 228):\n",
    "    return userCorrCol[userCorrCol.index != userCorrCol.name].nlargest(n = k).index.tolist()\n",
    "\n",
    "def new_users_activities(user_number):\n",
    "    kmeans_corr = t_new.corrwith(t_new[user_number], method = 'pearson')\n",
    "    corr = kmeans_corr.to_frame()\n",
    "    kNeighboors = corr.apply(lambda col: findKNearestUsers(col))\n",
    "    mask = list(kNeighboors.iloc[:,0])\n",
    "    #тут переходим к просто юзерам, другому файлу\n",
    "    dddf = pd.DataFrame(norm_t[norm_t.id.isin(mask)].sum() == 0)\n",
    "    not_zeros = dddf[dddf[0] == 0].index.tolist()[2:]\n",
    "    new_ddf = pd.DataFrame(norm_t[norm_t.id.isin(mask)][not_zeros].sum()).reset_index()\n",
    "    super_ddf = new_ddf[new_ddf['index'].str.contains(\"направление\")].sort_values(by=0, \n",
    "                                                                                  ascending=False).rename(columns={0: 'simulirity'})\n",
    "    super_ddf['direction'] = super_ddf['index'].apply(lambda x : x.split('_x_')[1])\n",
    "    super_attend = attend[['уникальный номер группы', 'направление 3']].drop_duplicates()\n",
    "    new = super_ddf.merge(super_attend, left_on='direction', right_on='направление 3')\n",
    "    new = new.drop(columns = [\"index\",\"направление 3\"])\n",
    "    dc = pd.merge(new,gc[[\"coordinate\",\"уникальный номер группы\"]],on = \"уникальный номер группы\")\n",
    "    dc[\"coordinate\"] = dc[\"coordinate\"].str.replace(\"[()]\",\"\")\n",
    "    point = uc.loc[uc[\"уникальный номер\"] == user_number, \"coordinate\"].tolist()\n",
    "    coor=dc\n",
    "    coor[\"distance\"] = coor.coordinate.apply(lambda x : geopy.distance.geodesic(point, x).km)\n",
    "    coor1 = coor.drop_duplicates(subset=\"direction\", keep='first')\n",
    "    final_set = coor1.sort_values(['simulirity', 'distance'],\n",
    "              ascending = [False, True])\n",
    "    final_set = final_set.drop_duplicates(subset=\"direction\", keep='first')\n",
    "    groups = final_set['уникальный номер группы'][:10].tolist()\n",
    "    return groups"
   ]
  },
  {
   "cell_type": "code",
   "execution_count": 119,
   "id": "1f27a42f",
   "metadata": {},
   "outputs": [
    {
     "name": "stderr",
     "output_type": "stream",
     "text": [
      "<ipython-input-118-d97e5764fc5b>:20: FutureWarning: The default value of regex will change from True to False in a future version.\n",
      "  dc[\"coordinate\"] = dc[\"coordinate\"].str.replace(\"[()]\",\"\")\n"
     ]
    }
   ],
   "source": [
    "new_users_groups = new_users_activities(user_number)\n",
    "\n",
    "def new_user_card(new_users_groups):\n",
    "    card = []\n",
    "    i = 0\n",
    "    while i < len(new_users_groups):\n",
    "        card.append(groups_cards.loc[groups_cards['уникальный номер'] == new_users_groups[i],[\"направление 3\", \"адрес площадки\"]])\n",
    "        i+=1\n",
    "\n",
    "    return card"
   ]
  },
  {
   "cell_type": "code",
   "execution_count": 120,
   "id": "34d9462b",
   "metadata": {
    "collapsed": true
   },
   "outputs": [
    {
     "data": {
      "text/plain": [
       "[                              направление 3  \\\n",
       " 3760  ОНЛАЙН Краеведение и онлайн-экскурсии   \n",
       " \n",
       "                                               адрес площадки  \n",
       " 3760  г. Москва, Зелёный проспект, д. 5/12 стр. 1, офис 123а  ,\n",
       "                                                 направление 3  \\\n",
       " 1630  ОНЛАЙН Мастер-класс по уходу за кожей в зрелом возрасте   \n",
       " \n",
       "                                                                                                            адрес площадки  \n",
       " 1630  г. Москва, Студёный проезд, дом 4, корпус 2, город Москва, 1-я Новокузьминская улица, дом 6, корпус 2, квартира 120  ,\n",
       "                  направление 3  \\\n",
       " 2179  ОНЛАЙН История искусства   \n",
       " \n",
       "                                                           адрес площадки  \n",
       " 2179  г. Москва, Большая Пионерская улица, д. 15, стр. 1, этаж 1, пом. I  ,\n",
       "                             направление 3  \\\n",
       " 12589  ОНЛАЙН Различные техники рисования   \n",
       " \n",
       "                                                                                              адрес площадки  \n",
       " 12589  г. Москва, сельское поселение Новофёдоровское, поселение Новофедоровское, деревня Яковлевское, дом 4  ,\n",
       "              направление 3                              адрес площадки\n",
       " 11288  ОНЛАЙН Здорово жить  г. Москва, улица Римского-Корсакова, дом 6,\n",
       "                       направление 3                             адрес площадки\n",
       " 11280  Краеведение и пешие прогулки  город Москва, улица Мусы Джалиля, дом 25А,\n",
       "           направление 3                                   адрес площадки\n",
       " 3689  ОНЛАЙН Гимнастика  Москва, Ул.  Тихомирова д.12, корп. 2, кв. 128 ,\n",
       "                   направление 3  \\\n",
       " 2356  ОНЛАЙН Правильное питание   \n",
       " \n",
       "                                                         адрес площадки  \n",
       " 2356  г. Москва, Сокольническая площадь, дом 4, корпус.2, квартира 265  ,\n",
       "                         направление 3  \\\n",
       " 3557  ОНЛАЙН Психологические тренинги   \n",
       " \n",
       "                                                          адрес площадки  \n",
       " 3557  Санкт-Петербург, улица Мебельная, дом 19, корпус 2, квартира 660   ,\n",
       "                     направление 3  \\\n",
       " 2328  ОНЛАЙН Суставная гимнастика   \n",
       " \n",
       "                                            адрес площадки  \n",
       " 2328  г. Москва, Алтуфьевское шоссе, дом 64, квартира 234  ]"
      ]
     },
     "execution_count": 120,
     "metadata": {},
     "output_type": "execute_result"
    }
   ],
   "source": [
    "new_user_card(new_users_groups)"
   ]
  },
  {
   "cell_type": "markdown",
   "id": "4d6f1b52",
   "metadata": {},
   "source": [
    "# ДЛЯ НЕЗАРЕГИСТРИРОВАННЫХ ПОЛЬЗОВАТЕЛЕЙ"
   ]
  },
  {
   "cell_type": "code",
   "execution_count": null,
   "id": "38ad910d",
   "metadata": {},
   "outputs": [],
   "source": [
    "#При работе c интерфейсом, все переменные приходят с ввода пользователя\n",
    "#Здесь показаны примеры работы без ввода "
   ]
  },
  {
   "cell_type": "code",
   "execution_count": 3,
   "id": "19a8cb9d",
   "metadata": {},
   "outputs": [],
   "source": [
    "district = \"Дмитровский\" \n",
    "#при работе с фронтом район вводится из выадающего списка, не вручную"
   ]
  },
  {
   "cell_type": "code",
   "execution_count": 7,
   "id": "fb6df18b",
   "metadata": {},
   "outputs": [
    {
     "name": "stdout",
     "output_type": "stream",
     "text": [
      "1.72\n",
      "59\n"
     ]
    }
   ],
   "source": [
    "#рост указывается в метры.сантиметры\n",
    "height = 1.72\n",
    "weight = 59\n",
    "#расчет имт, установка параметров рекомендательной системы по умолчанию и настройка их изменений в зависимости от ввода\n",
    "bmi=weight/(height*height)\n",
    "sports = 4\n",
    "soul = 3\n",
    "mind = 3\n",
    "if bmi > 25:\n",
    "    sports +=1\n",
    "    mind -+1"
   ]
  },
  {
   "cell_type": "code",
   "execution_count": 5,
   "id": "9be4a604",
   "metadata": {},
   "outputs": [],
   "source": [
    "groups_cards = groups_cards.drop(columns=[\"округ площадки\",\"расписание в активных периодах\",\"расписание в плановом периоде\"])\n",
    "groups_cards = groups_cards[groups_cards['район площадки'].notna()]\n",
    "mask = groups_cards[\"район площадки\"].str.contains(\"Дмитровский\")\n",
    "groups_cards_district = groups_cards.loc[mask]"
   ]
  },
  {
   "cell_type": "code",
   "execution_count": 8,
   "id": "d789fa9b",
   "metadata": {},
   "outputs": [
    {
     "name": "stdout",
     "output_type": "stream",
     "text": [
      "B\n"
     ]
    }
   ],
   "source": [
    "#человека спрашивают, сколько часов в день он сидит. A менее 3 B 4-8 C 8+\n",
    "sit = B\n",
    "\n",
    "if sit == \"A\":\n",
    "    sports -= 2\n",
    "    soul += 1\n",
    "    mind += 1\n",
    "elif sit == \"B\":\n",
    "    sports+=1\n",
    "    mind-=1\n",
    "else:\n",
    "    sports+=2\n",
    "    soul -=1\n",
    "    mind -=1"
   ]
  },
  {
   "cell_type": "code",
   "execution_count": 40,
   "id": "67ef0ca2",
   "metadata": {},
   "outputs": [
    {
     "name": "stdout",
     "output_type": "stream",
     "text": [
      "B\n"
     ]
    }
   ],
   "source": [
    "#человека спрашивают, что он больше хочет - A-Получить новую профессию\n",
    "#Б-Изучить новый язык\n",
    "#В-Завести новые знакомства\n",
    "\n",
    "new = B\n",
    "if new == \"A\":\n",
    "    knowledge = [\"Спецпроект / Серебряный университет\"]\n",
    "elif new == \"B\":\n",
    "    knowledge =[\"Английский язык\", \"Иностранные языки\", \"ОНЛАЙН Английский язык\", \"ОНЛАЙН Иностранные языки\"]\n",
    "elif new == \"C\":\n",
    "    knowledge = [\"Игры\", \"Спецпроект / Интеллектуальный клуб\"]"
   ]
  },
  {
   "cell_type": "code",
   "execution_count": 13,
   "id": "e856c43b",
   "metadata": {},
   "outputs": [
    {
     "name": "stdout",
     "output_type": "stream",
     "text": [
      "B\n"
     ]
    }
   ],
   "source": [
    "#человека спрашивают, что ему больше нравится\n",
    "# A- Петь\n",
    "# Б-Рисовать\n",
    "# В-Мастерить\n",
    "# Г - Танцевать\n",
    "# Д - Смотреть спектакли\n",
    "\n",
    "leasure = B\n",
    "if leasure == \"A\":\n",
    "    l = [\"Пение\"]\n",
    "elif leasure == \"B\":\n",
    "    l = [\"Рисование\"]\n",
    "elif leasure == \"C\":\n",
    "    l = [\"Творчество\"]\n",
    "elif leasure == \"D\":\n",
    "    l = [\"Танцы\"]\n",
    "elif leasure == \"E\":\n",
    "    l = [\"Спецпроект / Московский театрал\"]"
   ]
  },
  {
   "cell_type": "code",
   "execution_count": 41,
   "id": "4cde0519",
   "metadata": {},
   "outputs": [
    {
     "name": "stdout",
     "output_type": "stream",
     "text": [
      "n\n"
     ]
    }
   ],
   "source": [
    "#человека спрашивают, занимается ли он спортом, варианты ответа Да и нет (y и n)\n",
    "doing_sports = y\n",
    "if doing_sports == \"y\":\n",
    "    sport_types = [\"Спортивные игры\", \"Фитнес\", \"Тренажеры\", \"Коньки\", \"ГТО\", \"Лыжи\", \"Борьба\"]\n",
    "else:\n",
    "    sport_types = [\"ОФП\", \"Скандинавская ходьба\", \"Гимнастика\" , \"ОНЛАЙН ОФП\", \"ОНЛАЙН Гимнастика\"]"
   ]
  },
  {
   "cell_type": "code",
   "execution_count": 50,
   "id": "d0c45af4",
   "metadata": {},
   "outputs": [],
   "source": [
    "mask2 = groups_cards_district[\"направление 1\"].str.contains('|'.join(activities))\n",
    "mask3 = groups_cards_district[\"направление 3\"].str.contains('|'.join(activities))\n",
    "masked_df = groups_cards_district[~(mask2 & mask3)]\n",
    "masked_df = masked_df[~masked_df[\"направление 2\"].str.contains(\"ОНЛАЙН\")]\n",
    "masked_df = masked_df.drop_duplicates(subset=['направление 3'], keep='first')"
   ]
  },
  {
   "cell_type": "code",
   "execution_count": 69,
   "id": "6274b347",
   "metadata": {},
   "outputs": [],
   "source": [
    "sport_card = masked_df[masked_df[\"направление 1\"].str.contains(\"Физическая активность\")]\n",
    "mind_card = masked_df[masked_df[\"направление 1\"].str.contains(\"Образование\")]\n",
    "soul_card = masked_df[~masked_df[\"направление 1\"].str.contains(\"Образование|Физическая активность\")]"
   ]
  },
  {
   "cell_type": "code",
   "execution_count": 73,
   "id": "a1f94c08",
   "metadata": {},
   "outputs": [
    {
     "data": {
      "text/html": [
       "<div>\n",
       "<style scoped>\n",
       "    .dataframe tbody tr th:only-of-type {\n",
       "        vertical-align: middle;\n",
       "    }\n",
       "\n",
       "    .dataframe tbody tr th {\n",
       "        vertical-align: top;\n",
       "    }\n",
       "\n",
       "    .dataframe thead th {\n",
       "        text-align: right;\n",
       "    }\n",
       "</style>\n",
       "<table border=\"1\" class=\"dataframe\">\n",
       "  <thead>\n",
       "    <tr style=\"text-align: right;\">\n",
       "      <th></th>\n",
       "      <th>уникальный номер</th>\n",
       "      <th>направление 1</th>\n",
       "      <th>направление 2</th>\n",
       "      <th>направление 3</th>\n",
       "      <th>адрес площадки</th>\n",
       "      <th>район площадки</th>\n",
       "      <th>расписание в закрытых периодах</th>\n",
       "    </tr>\n",
       "  </thead>\n",
       "  <tbody>\n",
       "    <tr>\n",
       "      <th>154</th>\n",
       "      <td>801354088</td>\n",
       "      <td>Танцы</td>\n",
       "      <td>Танцы</td>\n",
       "      <td>Бальные танцы</td>\n",
       "      <td>город Москва, улица Софьи Ковалевской, дом 8А,...</td>\n",
       "      <td>муниципальный округ Дмитровский, муниципальный...</td>\n",
       "      <td>c 09.01.2023 по 31.03.2023, Пн., Ср. 17:00-18:...</td>\n",
       "    </tr>\n",
       "    <tr>\n",
       "      <th>2995</th>\n",
       "      <td>801349046</td>\n",
       "      <td>Танцы</td>\n",
       "      <td>Танцы</td>\n",
       "      <td>Латиноамериканские танцы</td>\n",
       "      <td>г. Москва, улица Софьи Ковалевской, дом 1, стр...</td>\n",
       "      <td>муниципальный округ Дмитровский</td>\n",
       "      <td>c 07.04.2022 по 03.10.2022, Вт., Чт. 11:30-12:...</td>\n",
       "    </tr>\n",
       "    <tr>\n",
       "      <th>7748</th>\n",
       "      <td>801353603</td>\n",
       "      <td>Пение</td>\n",
       "      <td>Пение</td>\n",
       "      <td>Хоровое пение</td>\n",
       "      <td>город Москва, Учинская улица, дом 10, город Мо...</td>\n",
       "      <td>муниципальный округ Дмитровский, муниципальный...</td>\n",
       "      <td>c 09.01.2023 по 31.03.2023, Пн., Ср. 13:45-14:...</td>\n",
       "    </tr>\n",
       "  </tbody>\n",
       "</table>\n",
       "</div>"
      ],
      "text/plain": [
       "      уникальный номер направление 1 направление 2             направление 3  \\\n",
       "154          801354088         Танцы         Танцы             Бальные танцы   \n",
       "2995         801349046         Танцы         Танцы  Латиноамериканские танцы   \n",
       "7748         801353603         Пение         Пение             Хоровое пение   \n",
       "\n",
       "                                         адрес площадки  \\\n",
       "154   город Москва, улица Софьи Ковалевской, дом 8А,...   \n",
       "2995  г. Москва, улица Софьи Ковалевской, дом 1, стр...   \n",
       "7748  город Москва, Учинская улица, дом 10, город Мо...   \n",
       "\n",
       "                                         район площадки  \\\n",
       "154   муниципальный округ Дмитровский, муниципальный...   \n",
       "2995                    муниципальный округ Дмитровский   \n",
       "7748  муниципальный округ Дмитровский, муниципальный...   \n",
       "\n",
       "                         расписание в закрытых периодах  \n",
       "154   c 09.01.2023 по 31.03.2023, Пн., Ср. 17:00-18:...  \n",
       "2995  c 07.04.2022 по 03.10.2022, Вт., Чт. 11:30-12:...  \n",
       "7748  c 09.01.2023 по 31.03.2023, Пн., Ср. 13:45-14:...  "
      ]
     },
     "execution_count": 73,
     "metadata": {},
     "output_type": "execute_result"
    }
   ],
   "source": [
    "#Рекомендуем вам спортивные активности \n",
    "sport_card[:sports]"
   ]
  },
  {
   "cell_type": "code",
   "execution_count": 121,
   "id": "39969084",
   "metadata": {},
   "outputs": [
    {
     "data": {
      "text/html": [
       "<div>\n",
       "<style scoped>\n",
       "    .dataframe tbody tr th:only-of-type {\n",
       "        vertical-align: middle;\n",
       "    }\n",
       "\n",
       "    .dataframe tbody tr th {\n",
       "        vertical-align: top;\n",
       "    }\n",
       "\n",
       "    .dataframe thead th {\n",
       "        text-align: right;\n",
       "    }\n",
       "</style>\n",
       "<table border=\"1\" class=\"dataframe\">\n",
       "  <thead>\n",
       "    <tr style=\"text-align: right;\">\n",
       "      <th></th>\n",
       "      <th>уникальный номер</th>\n",
       "      <th>направление 1</th>\n",
       "      <th>направление 2</th>\n",
       "      <th>направление 3</th>\n",
       "      <th>адрес площадки</th>\n",
       "      <th>район площадки</th>\n",
       "      <th>расписание в закрытых периодах</th>\n",
       "    </tr>\n",
       "  </thead>\n",
       "  <tbody>\n",
       "    <tr>\n",
       "      <th>3894</th>\n",
       "      <td>801359805</td>\n",
       "      <td>Образование</td>\n",
       "      <td>Информационные технологии</td>\n",
       "      <td>Осваиваем мобильные устройства</td>\n",
       "      <td>г. Москва, Карельский бульвар, дом 20, город Москва, Карельский бульвар, дом 20</td>\n",
       "      <td>муниципальный округ Дмитровский, муниципальный округ Дмитровский</td>\n",
       "      <td>c 09.01.2023 по 31.03.2023, Вт., Чт. 16:00-17:00, без перерыва; c 27.09.2022 по 31.12.2022, Вт., Чт. 16:00-17:00, без перерыва; c 13.09.2022 по 26.09.2022, Вт., Чт. 16:30-17:30, без перерыва</td>\n",
       "    </tr>\n",
       "    <tr>\n",
       "      <th>3900</th>\n",
       "      <td>801354082</td>\n",
       "      <td>Образование</td>\n",
       "      <td>Английский язык</td>\n",
       "      <td>Английский язык</td>\n",
       "      <td>город Москва, улица Софьи Ковалевской, дом 8А</td>\n",
       "      <td>муниципальный округ Дмитровский</td>\n",
       "      <td>c 09.01.2023 по 31.03.2023, Пн., Ср. 14:30-15:30, без перерыва; c 05.09.2022 по 31.12.2022, Пн., Ср. 14:30-15:30, без перерыва; c 06.04.2022 по 01.09.2022, Ср. 14:45-15:45, без перерыва; c 04.04.2022 по 01.09.2022, Пн. 15:45-16:45, без перерыва</td>\n",
       "    </tr>\n",
       "  </tbody>\n",
       "</table>\n",
       "</div>"
      ],
      "text/plain": [
       "      уникальный номер направление 1              направление 2  \\\n",
       "3894         801359805   Образование  Информационные технологии   \n",
       "3900         801354082   Образование            Английский язык   \n",
       "\n",
       "                       направление 3  \\\n",
       "3894  Осваиваем мобильные устройства   \n",
       "3900                 Английский язык   \n",
       "\n",
       "                                                                       адрес площадки  \\\n",
       "3894  г. Москва, Карельский бульвар, дом 20, город Москва, Карельский бульвар, дом 20   \n",
       "3900                                    город Москва, улица Софьи Ковалевской, дом 8А   \n",
       "\n",
       "                                                        район площадки  \\\n",
       "3894  муниципальный округ Дмитровский, муниципальный округ Дмитровский   \n",
       "3900                                   муниципальный округ Дмитровский   \n",
       "\n",
       "                                                                                                                                                                                                                            расписание в закрытых периодах  \n",
       "3894                                                        c 09.01.2023 по 31.03.2023, Вт., Чт. 16:00-17:00, без перерыва; c 27.09.2022 по 31.12.2022, Вт., Чт. 16:00-17:00, без перерыва; c 13.09.2022 по 26.09.2022, Вт., Чт. 16:30-17:30, без перерыва  \n",
       "3900  c 09.01.2023 по 31.03.2023, Пн., Ср. 14:30-15:30, без перерыва; c 05.09.2022 по 31.12.2022, Пн., Ср. 14:30-15:30, без перерыва; c 06.04.2022 по 01.09.2022, Ср. 14:45-15:45, без перерыва; c 04.04.2022 по 01.09.2022, Пн. 15:45-16:45, без перерыва  "
      ]
     },
     "execution_count": 121,
     "metadata": {},
     "output_type": "execute_result"
    }
   ],
   "source": [
    "#Рекомендуем вам образовательные активности \n",
    "mind_card [:mind]"
   ]
  },
  {
   "cell_type": "code",
   "execution_count": 122,
   "id": "95745a3a",
   "metadata": {},
   "outputs": [
    {
     "data": {
      "text/html": [
       "<div>\n",
       "<style scoped>\n",
       "    .dataframe tbody tr th:only-of-type {\n",
       "        vertical-align: middle;\n",
       "    }\n",
       "\n",
       "    .dataframe tbody tr th {\n",
       "        vertical-align: top;\n",
       "    }\n",
       "\n",
       "    .dataframe thead th {\n",
       "        text-align: right;\n",
       "    }\n",
       "</style>\n",
       "<table border=\"1\" class=\"dataframe\">\n",
       "  <thead>\n",
       "    <tr style=\"text-align: right;\">\n",
       "      <th></th>\n",
       "      <th>уникальный номер</th>\n",
       "      <th>направление 1</th>\n",
       "      <th>направление 2</th>\n",
       "      <th>направление 3</th>\n",
       "      <th>адрес площадки</th>\n",
       "      <th>район площадки</th>\n",
       "      <th>расписание в закрытых периодах</th>\n",
       "    </tr>\n",
       "  </thead>\n",
       "  <tbody>\n",
       "    <tr>\n",
       "      <th>154</th>\n",
       "      <td>801354088</td>\n",
       "      <td>Танцы</td>\n",
       "      <td>Танцы</td>\n",
       "      <td>Бальные танцы</td>\n",
       "      <td>город Москва, улица Софьи Ковалевской, дом 8А, г. Москва, улица Софьи Ковалевской, дом 1, г. Москва, Лобненская улица, дом 13А, г. Москва, улица Софьи Ковалевской, дом 18 А</td>\n",
       "      <td>муниципальный округ Дмитровский, муниципальный округ Дмитровский, муниципальный округ Дмитровский, муниципальный округ Дмитровский</td>\n",
       "      <td>c 09.01.2023 по 31.03.2023, Пн., Ср. 17:00-18:00, без перерыва; c 05.09.2022 по 31.12.2022, Пн., Ср. 17:00-18:00, без перерыва; c 16.03.2022 по 01.09.2022, Пн., Ср. 16:00-17:00, без перерыва; c 10.01.2022 по 15.03.2022, Пн., Ср. 16:00-17:00, без перерыва; c 01.09.2021 по 31.12.2021, Пн., Ср. 16:00-17:00, без перерыва; c 09.08.2021 по 31.08.2021, Пн., Ср. 11:00-12:00, без перерыва; c 02.08.2021 по 08.08.2021, Пн., Ср. 11:00-12:00, без перерыва; c 02.09.2020 по 31.12.2020, Пн., Ср. 16:00-17:00, без перерыва; c 10.09.2019 по 31.12.2019, Вт., Чт. 18:00-19:00, без перерыва; c 09.01.2020 по 01.09.2020, Вт., Чт. 18:00-19:00, без перерыва</td>\n",
       "    </tr>\n",
       "    <tr>\n",
       "      <th>2995</th>\n",
       "      <td>801349046</td>\n",
       "      <td>Танцы</td>\n",
       "      <td>Танцы</td>\n",
       "      <td>Латиноамериканские танцы</td>\n",
       "      <td>г. Москва, улица Софьи Ковалевской, дом 1, строение 1</td>\n",
       "      <td>муниципальный округ Дмитровский</td>\n",
       "      <td>c 07.04.2022 по 03.10.2022, Вт., Чт. 11:30-12:30, без перерыва</td>\n",
       "    </tr>\n",
       "    <tr>\n",
       "      <th>7748</th>\n",
       "      <td>801353603</td>\n",
       "      <td>Пение</td>\n",
       "      <td>Пение</td>\n",
       "      <td>Хоровое пение</td>\n",
       "      <td>город Москва, Учинская улица, дом 10, город Москва, Учинская улица, дом 10</td>\n",
       "      <td>муниципальный округ Дмитровский, муниципальный округ Дмитровский</td>\n",
       "      <td>c 09.01.2023 по 31.03.2023, Пн., Ср. 13:45-14:45, без перерыва; c 27.09.2022 по 31.12.2022, Пн., Ср. 13:45-14:45, без перерыва; c 05.09.2022 по 26.09.2022, Пн., Ср. 13:45-14:45, без перерыва; c 01.06.2022 по 01.09.2022, Ср. 12:30-14:30, без перерыва; c 04.04.2022 по 31.05.2022, Пн., Ср. 12:30-13:30, без перерыва</td>\n",
       "    </tr>\n",
       "  </tbody>\n",
       "</table>\n",
       "</div>"
      ],
      "text/plain": [
       "      уникальный номер направление 1 направление 2             направление 3  \\\n",
       "154          801354088         Танцы         Танцы             Бальные танцы   \n",
       "2995         801349046         Танцы         Танцы  Латиноамериканские танцы   \n",
       "7748         801353603         Пение         Пение             Хоровое пение   \n",
       "\n",
       "                                                                                                                                                                    адрес площадки  \\\n",
       "154   город Москва, улица Софьи Ковалевской, дом 8А, г. Москва, улица Софьи Ковалевской, дом 1, г. Москва, Лобненская улица, дом 13А, г. Москва, улица Софьи Ковалевской, дом 18 А   \n",
       "2995                                                                                                                         г. Москва, улица Софьи Ковалевской, дом 1, строение 1   \n",
       "7748                                                                                                    город Москва, Учинская улица, дом 10, город Москва, Учинская улица, дом 10   \n",
       "\n",
       "                                                                                                                          район площадки  \\\n",
       "154   муниципальный округ Дмитровский, муниципальный округ Дмитровский, муниципальный округ Дмитровский, муниципальный округ Дмитровский   \n",
       "2995                                                                                                     муниципальный округ Дмитровский   \n",
       "7748                                                                    муниципальный округ Дмитровский, муниципальный округ Дмитровский   \n",
       "\n",
       "                                                                                                                                                                                                                                                                                                                                                                                                                                                                                                                                                                                                                                      расписание в закрытых периодах  \n",
       "154   c 09.01.2023 по 31.03.2023, Пн., Ср. 17:00-18:00, без перерыва; c 05.09.2022 по 31.12.2022, Пн., Ср. 17:00-18:00, без перерыва; c 16.03.2022 по 01.09.2022, Пн., Ср. 16:00-17:00, без перерыва; c 10.01.2022 по 15.03.2022, Пн., Ср. 16:00-17:00, без перерыва; c 01.09.2021 по 31.12.2021, Пн., Ср. 16:00-17:00, без перерыва; c 09.08.2021 по 31.08.2021, Пн., Ср. 11:00-12:00, без перерыва; c 02.08.2021 по 08.08.2021, Пн., Ср. 11:00-12:00, без перерыва; c 02.09.2020 по 31.12.2020, Пн., Ср. 16:00-17:00, без перерыва; c 10.09.2019 по 31.12.2019, Вт., Чт. 18:00-19:00, без перерыва; c 09.01.2020 по 01.09.2020, Вт., Чт. 18:00-19:00, без перерыва  \n",
       "2995                                                                                                                                                                                                                                                                                                                                                                                                                                                                                                                                                                                                  c 07.04.2022 по 03.10.2022, Вт., Чт. 11:30-12:30, без перерыва  \n",
       "7748                                                                                                                                                                                                                                                                                                                                       c 09.01.2023 по 31.03.2023, Пн., Ср. 13:45-14:45, без перерыва; c 27.09.2022 по 31.12.2022, Пн., Ср. 13:45-14:45, без перерыва; c 05.09.2022 по 26.09.2022, Пн., Ср. 13:45-14:45, без перерыва; c 01.06.2022 по 01.09.2022, Ср. 12:30-14:30, без перерыва; c 04.04.2022 по 31.05.2022, Пн., Ср. 12:30-13:30, без перерыва  "
      ]
     },
     "execution_count": 122,
     "metadata": {},
     "output_type": "execute_result"
    }
   ],
   "source": [
    "#Рекомендуем вам активности для души\n",
    "soul_card[:soul]"
   ]
  },
  {
   "cell_type": "code",
   "execution_count": null,
   "id": "f50a0172",
   "metadata": {},
   "outputs": [],
   "source": []
  }
 ],
 "metadata": {
  "kernelspec": {
   "display_name": "Python 3",
   "language": "python",
   "name": "python3"
  },
  "language_info": {
   "codemirror_mode": {
    "name": "ipython",
    "version": 3
   },
   "file_extension": ".py",
   "mimetype": "text/x-python",
   "name": "python",
   "nbconvert_exporter": "python",
   "pygments_lexer": "ipython3",
   "version": "3.8.10"
  }
 },
 "nbformat": 4,
 "nbformat_minor": 5
}
